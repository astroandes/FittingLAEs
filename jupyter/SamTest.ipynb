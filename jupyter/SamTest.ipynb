{
 "cells": [
  {
   "cell_type": "code",
   "execution_count": 1,
   "metadata": {
    "collapsed": false
   },
   "outputs": [
    {
     "name": "stdout",
     "output_type": "stream",
     "text": [
      "Populating the interactive namespace from numpy and matplotlib\n"
     ]
    }
   ],
   "source": [
    "%pylab inline"
   ]
  },
  {
   "cell_type": "code",
   "execution_count": 70,
   "metadata": {
    "collapsed": false
   },
   "outputs": [],
   "source": [
    "data = loadtxt(\"tau10E7_vrot100_vout75_out.ascii\", skiprows=1)\n",
    "#data = loadtxt(\"tau10E7_vrot50_vout50_out.ascii\", skiprows=1)\n",
    "#data = loadtxt(\"tau10E7_vrot200_vout100_out.ascii\", skiprows=1)"
   ]
  },
  {
   "cell_type": "code",
   "execution_count": 71,
   "metadata": {
    "collapsed": true
   },
   "outputs": [],
   "source": [
    "x=data[:,6]"
   ]
  },
  {
   "cell_type": "code",
   "execution_count": 72,
   "metadata": {
    "collapsed": false
   },
   "outputs": [
    {
     "data": {
      "image/png": "[encoded data removed]",
      "text/plain": [
       "<matplotlib.figure.Figure at 0x7f374c5ae690>"
      ]
     },
     "metadata": {},
     "output_type": "display_data"
    }
   ],
   "source": [
    "factor = -12.6\n",
    "lambda_factor = 1216.0/3E5\n",
    "line_center = 1216.0\n",
    "z = 3.49\n",
    "new_data = (1+z)*(x  * factor * lambda_factor + line_center)\n",
    "a = hist(new_data, bins=20)\n",
    "wavelength = a[1][1:]\n",
    "intensity = a[0]"
   ]
  },
  {
   "cell_type": "code",
   "execution_count": 73,
   "metadata": {
    "collapsed": false
   },
   "outputs": [
    {
     "name": "stdout",
     "output_type": "stream",
     "text": [
      "20\n"
     ]
    },
    {
     "data": {
      "image/png": "[encoded data removed]",
      "text/plain": [
       "<matplotlib.figure.Figure at 0x7f374b7587d0>"
      ]
     },
     "metadata": {},
     "output_type": "display_data"
    }
   ],
   "source": [
    "plot(wavelength, intensity[0:])\n",
    "print size(wavelength)\n"
   ]
  },
  {
   "cell_type": "code",
   "execution_count": 74,
   "metadata": {
    "collapsed": false
   },
   "outputs": [],
   "source": [
    "from lmfit.models import LinearModel, LorentzianModel, SkewedGaussianModel"
   ]
  },
  {
   "cell_type": "code",
   "execution_count": 75,
   "metadata": {
    "collapsed": false
   },
   "outputs": [
    {
     "name": "stdout",
     "output_type": "stream",
     "text": [
      "[[Model]]\n",
      "    Model(skewed_gaussian)\n",
      "[[Fit Statistics]]\n",
      "    # function evals   = 103\n",
      "    # data points      = 20\n",
      "    # variables        = 4\n",
      "    chi-square         = 160606.490\n",
      "    reduced chi-square = 10037.906\n",
      "[[Variables]]\n",
      "    sigma:       2.89685657 +/- 0.020503 (0.71%) (init= 3)\n",
      "    amplitude:   1.0911e+05 +/- 343.1212 (0.31%) (init= 20000)\n",
      "    center:      5464.55180 +/- 0.015888 (0.00%) (init= 5460)\n",
      "    gamma:       2.02997899 +/- 0.043782 (2.16%) (init= 2)\n",
      "[[Correlations]] (unreported correlations are <  0.100)\n",
      "    C(sigma, center)             = -0.884 \n",
      "    C(sigma, gamma)              =  0.854 \n",
      "    C(center, gamma)             = -0.850 \n",
      "    C(sigma, amplitude)          =  0.370 \n",
      "    C(amplitude, center)         = -0.244 \n",
      "\n"
     ]
    }
   ],
   "source": [
    "model = SkewedGaussianModel()\n",
    "params = model.make_params(amplitude=20000, center = 5460, sigma=3, gamma = 2)\n",
    "result =model.fit(intensity, params, x=wavelength)\n",
    "print(result.fit_report())"
   ]
  },
  {
   "cell_type": "code",
   "execution_count": 76,
   "metadata": {
    "collapsed": false
   },
   "outputs": [
    {
     "data": {
      "text/plain": [
       "[<matplotlib.lines.Line2D at 0x7f374b752d50>]"
      ]
     },
     "execution_count": 76,
     "metadata": {},
     "output_type": "execute_result"
    },
    {
     "data": {
      "image/png": "[encoded data removed]",
      "text/plain": [
       "<matplotlib.figure.Figure at 0x7f374b7525d0>"
      ]
     },
     "metadata": {},
     "output_type": "display_data"
    }
   ],
   "source": [
    "plot(wavelength,intensity)\n",
    "plot(wavelength,result.best_fit)"
   ]
  },
  {
   "cell_type": "code",
   "execution_count": null,
   "metadata": {
    "collapsed": true
   },
   "outputs": [],
   "source": []
  },
  {
   "cell_type": "code",
   "execution_count": null,
   "metadata": {
    "collapsed": true
   },
   "outputs": [],
   "source": []
  }
 ],
 "metadata": {
  "kernelspec": {
   "display_name": "Python 2",
   "language": "python",
   "name": "python2"
  },
  "language_info": {
   "codemirror_mode": {
    "name": "ipython",
    "version": 2
   },
   "file_extension": ".py",
   "mimetype": "text/x-python",
   "name": "python",
   "nbconvert_exporter": "python",
   "pygments_lexer": "ipython2",
   "version": "2.7.6"
  }
 },
 "nbformat": 4,
 "nbformat_minor": 0
}
